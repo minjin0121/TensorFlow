{
  "nbformat": 4,
  "nbformat_minor": 0,
  "metadata": {
    "colab": {
      "name": "Untitled0.ipynb",
      "provenance": [],
      "authorship_tag": "ABX9TyNcMmazVvY7QUwx5lyrRViA",
      "include_colab_link": true
    },
    "kernelspec": {
      "name": "python3",
      "display_name": "Python 3"
    }
  },
  "cells": [
    {
      "cell_type": "markdown",
      "metadata": {
        "id": "view-in-github",
        "colab_type": "text"
      },
      "source": [
        "<a href=\"https://colab.research.google.com/github/minjin0121/TensorFlow/blob/master/Function_Test.ipynb\" target=\"_parent\"><img src=\"https://colab.research.google.com/assets/colab-badge.svg\" alt=\"Open In Colab\"/></a>"
      ]
    },
    {
      "cell_type": "markdown",
      "metadata": {
        "id": "17Xmxb2-Ac7g",
        "colab_type": "text"
      },
      "source": [
        "2020.05.29\n",
        "\n",
        "Q : 세 개의 수를 곱하는 함수 만들기"
      ]
    },
    {
      "cell_type": "markdown",
      "metadata": {
        "id": "IeQ6UNRmBIWd",
        "colab_type": "text"
      },
      "source": [
        "함수 선언 부분"
      ]
    },
    {
      "cell_type": "code",
      "metadata": {
        "id": "ocQH9JHpAdt8",
        "colab_type": "code",
        "colab": {}
      },
      "source": [
        "def multi(a, b, c) :\n",
        "  return a * b * c"
      ],
      "execution_count": 0,
      "outputs": []
    },
    {
      "cell_type": "markdown",
      "metadata": {
        "id": "uxX63wEFAz3C",
        "colab_type": "text"
      },
      "source": [
        "함수 호출 부분"
      ]
    },
    {
      "cell_type": "code",
      "metadata": {
        "id": "9onJz77YAsWz",
        "colab_type": "code",
        "colab": {
          "base_uri": "https://localhost:8080/",
          "height": 35
        },
        "outputId": "21bc778a-c0ef-4a34-a8cc-858a2f015e5d"
      },
      "source": [
        "multi(3, 4, 5)"
      ],
      "execution_count": 4,
      "outputs": [
        {
          "output_type": "execute_result",
          "data": {
            "text/plain": [
              "60"
            ]
          },
          "metadata": {
            "tags": []
          },
          "execution_count": 4
        }
      ]
    }
  ]
}